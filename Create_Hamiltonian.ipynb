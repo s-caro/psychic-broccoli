{
  "nbformat": 4,
  "nbformat_minor": 0,
  "metadata": {
    "colab": {
      "provenance": [],
      "authorship_tag": "ABX9TyOvTMEU+qZhTEGTbgmv2Quk",
      "include_colab_link": true
    },
    "kernelspec": {
      "name": "python3",
      "display_name": "Python 3"
    },
    "language_info": {
      "name": "python"
    }
  },
  "cells": [
    {
      "cell_type": "markdown",
      "metadata": {
        "id": "view-in-github",
        "colab_type": "text"
      },
      "source": [
        "<a href=\"https://colab.research.google.com/github/s-caro/psychic-broccoli/blob/main/Create_Hamiltonian.ipynb\" target=\"_parent\"><img src=\"https://colab.research.google.com/assets/colab-badge.svg\" alt=\"Open In Colab\"/></a>"
      ]
    },
    {
      "cell_type": "code",
      "source": [
        "import numpy as np\n",
        "import pandas as pd\n",
        "import math\n",
        "import pprint"
      ],
      "metadata": {
        "id": "-6W272wvcnCo"
      },
      "execution_count": 113,
      "outputs": []
    },
    {
      "cell_type": "code",
      "source": [
        "from sympy import Matrix\n",
        "\n",
        "from sympy.physics.quantum import TensorProduct"
      ],
      "metadata": {
        "id": "cLC6Y1TuhLw2"
      },
      "execution_count": 80,
      "outputs": []
    },
    {
      "cell_type": "code",
      "source": [
        "a = np.array(range(1,5))\n",
        "a.shape = (2,2)"
      ],
      "metadata": {
        "id": "vEwTOrWpcvMT"
      },
      "execution_count": 81,
      "outputs": []
    },
    {
      "cell_type": "code",
      "source": [
        "a"
      ],
      "metadata": {
        "colab": {
          "base_uri": "https://localhost:8080/"
        },
        "id": "PWtnvn8Oc77s",
        "outputId": "6aeef971-fb8f-47ac-dd99-a0947f8b25f7"
      },
      "execution_count": 82,
      "outputs": [
        {
          "output_type": "execute_result",
          "data": {
            "text/plain": [
              "array([[1, 2],\n",
              "       [3, 4]])"
            ]
          },
          "metadata": {},
          "execution_count": 82
        }
      ]
    },
    {
      "cell_type": "code",
      "source": [
        "b = np.array(range(5,9))\n",
        "b.shape = (2,2)\n",
        "b"
      ],
      "metadata": {
        "colab": {
          "base_uri": "https://localhost:8080/"
        },
        "id": "0V_eeVVOc8sT",
        "outputId": "7e7dbbc5-cd2c-4381-8c58-abd6921de68d"
      },
      "execution_count": 83,
      "outputs": [
        {
          "output_type": "execute_result",
          "data": {
            "text/plain": [
              "array([[5, 6],\n",
              "       [7, 8]])"
            ]
          },
          "metadata": {},
          "execution_count": 83
        }
      ]
    },
    {
      "cell_type": "code",
      "source": [
        "np.tensordot(a,b,axes=0)"
      ],
      "metadata": {
        "colab": {
          "base_uri": "https://localhost:8080/"
        },
        "id": "jvHLN7bqdHFE",
        "outputId": "69417c6d-1f80-44c9-f0b9-20689ba7eaa8"
      },
      "execution_count": 84,
      "outputs": [
        {
          "output_type": "execute_result",
          "data": {
            "text/plain": [
              "array([[[[ 5,  6],\n",
              "         [ 7,  8]],\n",
              "\n",
              "        [[10, 12],\n",
              "         [14, 16]]],\n",
              "\n",
              "\n",
              "       [[[15, 18],\n",
              "         [21, 24]],\n",
              "\n",
              "        [[20, 24],\n",
              "         [28, 32]]]])"
            ]
          },
          "metadata": {},
          "execution_count": 84
        }
      ]
    },
    {
      "cell_type": "code",
      "source": [
        "a = np.array([1,0,0,1])\n",
        "a.shape = (2,2)\n",
        "b = np.array([0,0,0,1])\n",
        "b.shape = (2,2)\n",
        "print(a)\n",
        "print(b)"
      ],
      "metadata": {
        "colab": {
          "base_uri": "https://localhost:8080/"
        },
        "id": "v2kuZQGJdRK1",
        "outputId": "ed645414-298e-45d0-fe89-5f01305dc2c5"
      },
      "execution_count": 85,
      "outputs": [
        {
          "output_type": "stream",
          "name": "stdout",
          "text": [
            "[[1 0]\n",
            " [0 1]]\n",
            "[[0 0]\n",
            " [0 1]]\n"
          ]
        }
      ]
    },
    {
      "cell_type": "code",
      "source": [
        "np.tensordot(a,b,axes=0)"
      ],
      "metadata": {
        "colab": {
          "base_uri": "https://localhost:8080/"
        },
        "id": "TKL5sLYTeJKo",
        "outputId": "ee062854-ce91-4f7f-d1ed-2448a1869606"
      },
      "execution_count": 86,
      "outputs": [
        {
          "output_type": "execute_result",
          "data": {
            "text/plain": [
              "array([[[[0, 0],\n",
              "         [0, 1]],\n",
              "\n",
              "        [[0, 0],\n",
              "         [0, 0]]],\n",
              "\n",
              "\n",
              "       [[[0, 0],\n",
              "         [0, 0]],\n",
              "\n",
              "        [[0, 0],\n",
              "         [0, 1]]]])"
            ]
          },
          "metadata": {},
          "execution_count": 86
        }
      ]
    },
    {
      "cell_type": "code",
      "source": [
        "I = np.identity(2)"
      ],
      "metadata": {
        "id": "D8slLU0geMhh"
      },
      "execution_count": 87,
      "outputs": []
    },
    {
      "cell_type": "code",
      "source": [
        "s_x = np.matrix([[0,1],[1,0]])\n",
        "s_z = np.matrix([[1,0],[0,-1]])\n",
        "spin_z = (I-s_z)/2"
      ],
      "metadata": {
        "id": "K1nsFdNseZfa"
      },
      "execution_count": 88,
      "outputs": []
    },
    {
      "cell_type": "code",
      "source": [
        "spin_z"
      ],
      "metadata": {
        "colab": {
          "base_uri": "https://localhost:8080/"
        },
        "id": "Q1FY2OiUeci1",
        "outputId": "ee093391-3649-4762-c38d-c939488220d4"
      },
      "execution_count": 89,
      "outputs": [
        {
          "output_type": "execute_result",
          "data": {
            "text/plain": [
              "matrix([[0., 0.],\n",
              "        [0., 1.]])"
            ]
          },
          "metadata": {},
          "execution_count": 89
        }
      ]
    },
    {
      "cell_type": "code",
      "source": [
        "H_f = 5*(np.tensordot(spin_z,I,axes=0)) + np.tensordot(I,spin_z,axes=0) - 2*(np.tensordot(spin_z,spin_z, axes=0))"
      ],
      "metadata": {
        "id": "QXbVWWCIer8L"
      },
      "execution_count": 90,
      "outputs": []
    },
    {
      "cell_type": "code",
      "source": [
        "H_f"
      ],
      "metadata": {
        "colab": {
          "base_uri": "https://localhost:8080/"
        },
        "id": "MP5O2sBNfAkB",
        "outputId": "120b1fd5-769a-4989-9a16-cc03bb507663"
      },
      "execution_count": 91,
      "outputs": [
        {
          "output_type": "execute_result",
          "data": {
            "text/plain": [
              "array([[[[0., 0.],\n",
              "         [0., 1.]],\n",
              "\n",
              "        [[0., 0.],\n",
              "         [0., 0.]]],\n",
              "\n",
              "\n",
              "       [[[0., 0.],\n",
              "         [0., 0.]],\n",
              "\n",
              "        [[5., 0.],\n",
              "         [0., 4.]]]])"
            ]
          },
          "metadata": {},
          "execution_count": 91
        }
      ]
    },
    {
      "cell_type": "code",
      "source": [
        "type(H_f)"
      ],
      "metadata": {
        "colab": {
          "base_uri": "https://localhost:8080/"
        },
        "id": "QF2QMQhwfBQc",
        "outputId": "4058847d-0245-483d-90f8-45a7be7569f6"
      },
      "execution_count": 92,
      "outputs": [
        {
          "output_type": "execute_result",
          "data": {
            "text/plain": [
              "numpy.ndarray"
            ]
          },
          "metadata": {},
          "execution_count": 92
        }
      ]
    },
    {
      "cell_type": "code",
      "source": [
        "H_f.shape"
      ],
      "metadata": {
        "colab": {
          "base_uri": "https://localhost:8080/"
        },
        "id": "cOjv3VAEfOvW",
        "outputId": "3691e608-4251-4ded-9213-5775afc85a08"
      },
      "execution_count": 93,
      "outputs": [
        {
          "output_type": "execute_result",
          "data": {
            "text/plain": [
              "(2, 2, 2, 2)"
            ]
          },
          "metadata": {},
          "execution_count": 93
        }
      ]
    },
    {
      "cell_type": "code",
      "source": [
        "H_f.shape = (4,4)"
      ],
      "metadata": {
        "id": "DPik07bmf2_q"
      },
      "execution_count": 94,
      "outputs": []
    },
    {
      "cell_type": "code",
      "source": [
        "H_f"
      ],
      "metadata": {
        "colab": {
          "base_uri": "https://localhost:8080/"
        },
        "id": "VkslA-ufg_2X",
        "outputId": "90e1d019-9336-4694-b45c-d7b4c08910fa"
      },
      "execution_count": 95,
      "outputs": [
        {
          "output_type": "execute_result",
          "data": {
            "text/plain": [
              "array([[0., 0., 0., 1.],\n",
              "       [0., 0., 0., 0.],\n",
              "       [0., 0., 0., 0.],\n",
              "       [5., 0., 0., 4.]])"
            ]
          },
          "metadata": {},
          "execution_count": 95
        }
      ]
    },
    {
      "cell_type": "code",
      "source": [
        "I = Matrix([[1,0],[0,1]])\n",
        "I"
      ],
      "metadata": {
        "colab": {
          "base_uri": "https://localhost:8080/",
          "height": 58
        },
        "id": "Vgo2bdgahAu_",
        "outputId": "01e34dee-27eb-4c01-8d52-ea9fbe578a3f"
      },
      "execution_count": 96,
      "outputs": [
        {
          "output_type": "execute_result",
          "data": {
            "text/plain": [
              "Matrix([\n",
              "[1, 0],\n",
              "[0, 1]])"
            ],
            "text/latex": "$\\displaystyle \\left[\\begin{matrix}1 & 0\\\\0 & 1\\end{matrix}\\right]$"
          },
          "metadata": {},
          "execution_count": 96
        }
      ]
    },
    {
      "cell_type": "code",
      "source": [
        "s_z = Matrix([[1,0],[0,-1]])\n",
        "s_z"
      ],
      "metadata": {
        "colab": {
          "base_uri": "https://localhost:8080/",
          "height": 58
        },
        "id": "pKX73ia5hWMh",
        "outputId": "fa32164f-ef2a-4f25-8745-3784899dc741"
      },
      "execution_count": 97,
      "outputs": [
        {
          "output_type": "execute_result",
          "data": {
            "text/plain": [
              "Matrix([\n",
              "[1,  0],\n",
              "[0, -1]])"
            ],
            "text/latex": "$\\displaystyle \\left[\\begin{matrix}1 & 0\\\\0 & -1\\end{matrix}\\right]$"
          },
          "metadata": {},
          "execution_count": 97
        }
      ]
    },
    {
      "cell_type": "code",
      "source": [
        "spin_z = (I-s_z)/2\n",
        "spin_z"
      ],
      "metadata": {
        "colab": {
          "base_uri": "https://localhost:8080/",
          "height": 58
        },
        "id": "UTGVkdpKhcSW",
        "outputId": "e38fb268-4818-4391-d824-8e4e4e41c5de"
      },
      "execution_count": 98,
      "outputs": [
        {
          "output_type": "execute_result",
          "data": {
            "text/plain": [
              "Matrix([\n",
              "[0, 0],\n",
              "[0, 1]])"
            ],
            "text/latex": "$\\displaystyle \\left[\\begin{matrix}0 & 0\\\\0 & 1\\end{matrix}\\right]$"
          },
          "metadata": {},
          "execution_count": 98
        }
      ]
    },
    {
      "cell_type": "code",
      "source": [
        "TensorProduct(I,spin_z)"
      ],
      "metadata": {
        "colab": {
          "base_uri": "https://localhost:8080/",
          "height": 98
        },
        "id": "6evdd9RthiSq",
        "outputId": "1fac1955-0baf-4819-fa95-cc6c9923f557"
      },
      "execution_count": 99,
      "outputs": [
        {
          "output_type": "execute_result",
          "data": {
            "text/plain": [
              "Matrix([\n",
              "[0, 0, 0, 0],\n",
              "[0, 1, 0, 0],\n",
              "[0, 0, 0, 0],\n",
              "[0, 0, 0, 1]])"
            ],
            "text/latex": "$\\displaystyle \\left[\\begin{matrix}0 & 0 & 0 & 0\\\\0 & 1 & 0 & 0\\\\0 & 0 & 0 & 0\\\\0 & 0 & 0 & 1\\end{matrix}\\right]$"
          },
          "metadata": {},
          "execution_count": 99
        }
      ]
    },
    {
      "cell_type": "code",
      "source": [
        "H_f = 5*TensorProduct(spin_z, I) + TensorProduct(I, spin_z) - 2*(TensorProduct(spin_z, spin_z))"
      ],
      "metadata": {
        "id": "l4EWdlkshtQD"
      },
      "execution_count": 100,
      "outputs": []
    },
    {
      "cell_type": "code",
      "source": [
        "H_f"
      ],
      "metadata": {
        "colab": {
          "base_uri": "https://localhost:8080/",
          "height": 98
        },
        "id": "aiJVJRjKh3gI",
        "outputId": "e2511bf2-4b14-480c-ce2c-71d6f5ecb2ad"
      },
      "execution_count": 101,
      "outputs": [
        {
          "output_type": "execute_result",
          "data": {
            "text/plain": [
              "Matrix([\n",
              "[0, 0, 0, 0],\n",
              "[0, 1, 0, 0],\n",
              "[0, 0, 5, 0],\n",
              "[0, 0, 0, 4]])"
            ],
            "text/latex": "$\\displaystyle \\left[\\begin{matrix}0 & 0 & 0 & 0\\\\0 & 1 & 0 & 0\\\\0 & 0 & 5 & 0\\\\0 & 0 & 0 & 4\\end{matrix}\\right]$"
          },
          "metadata": {},
          "execution_count": 101
        }
      ]
    },
    {
      "cell_type": "markdown",
      "source": [
        "**Formulazione e Hamiltoniana di un max-cut**"
      ],
      "metadata": {
        "id": "ZHQCoJVdi6XG"
      }
    },
    {
      "cell_type": "markdown",
      "source": [
        "*La soluzione dovrebbe essere (0,1,1,0,0)*"
      ],
      "metadata": {
        "id": "dqGuLx-4jF_I"
      }
    },
    {
      "cell_type": "code",
      "source": [
        "H_max_cut = 2*TensorProduct(spin_z,I,I,I,I) + 2*TensorProduct(I,spin_z,I,I,I) + 3*TensorProduct(I,I,spin_z,I,I) + 3*TensorProduct(I,I,I,spin_z,I) + 2*TensorProduct(I,I,I,I,spin_z)- 2*TensorProduct(spin_z,spin_z,I,I,I) - 2*TensorProduct(spin_z,I,spin_z,I,I) -2*TensorProduct(I,spin_z,I,spin_z,I) - 2*TensorProduct(I,I,spin_z,spin_z,I) - 2*TensorProduct(I,I,spin_z,I,spin_z) - 2*TensorProduct(I,I,I,spin_z,spin_z)"
      ],
      "metadata": {
        "id": "QadUI8cah4Yc"
      },
      "execution_count": 102,
      "outputs": []
    },
    {
      "cell_type": "markdown",
      "source": [
        "f(x) = 2$x_1$ + 2$x_2$ + 3$x_3$ + 3$x_4$ + 2$x_5$ - 2$x_1x_2$ - 2$x_1x_3$ - 2$x_2x_4$ -2$x_3x_4$ -2$x_3x_5$ - 2$x_4x_5$"
      ],
      "metadata": {
        "id": "5sHaTyl-nAVB"
      }
    },
    {
      "cell_type": "code",
      "source": [
        "H_max_cut"
      ],
      "metadata": {
        "colab": {
          "base_uri": "https://localhost:8080/",
          "height": 668
        },
        "id": "Iic7YFg1kd-s",
        "outputId": "05662783-a5e1-474c-92c4-deb1a5089212"
      },
      "execution_count": 103,
      "outputs": [
        {
          "output_type": "execute_result",
          "data": {
            "text/plain": [
              "Matrix([\n",
              "[0, 0, 0, 0, 0, 0, 0, 0, 0, 0, 0, 0, 0, 0, 0, 0, 0, 0, 0, 0, 0, 0, 0, 0, 0, 0, 0, 0, 0, 0, 0, 0],\n",
              "[0, 2, 0, 0, 0, 0, 0, 0, 0, 0, 0, 0, 0, 0, 0, 0, 0, 0, 0, 0, 0, 0, 0, 0, 0, 0, 0, 0, 0, 0, 0, 0],\n",
              "[0, 0, 3, 0, 0, 0, 0, 0, 0, 0, 0, 0, 0, 0, 0, 0, 0, 0, 0, 0, 0, 0, 0, 0, 0, 0, 0, 0, 0, 0, 0, 0],\n",
              "[0, 0, 0, 3, 0, 0, 0, 0, 0, 0, 0, 0, 0, 0, 0, 0, 0, 0, 0, 0, 0, 0, 0, 0, 0, 0, 0, 0, 0, 0, 0, 0],\n",
              "[0, 0, 0, 0, 3, 0, 0, 0, 0, 0, 0, 0, 0, 0, 0, 0, 0, 0, 0, 0, 0, 0, 0, 0, 0, 0, 0, 0, 0, 0, 0, 0],\n",
              "[0, 0, 0, 0, 0, 3, 0, 0, 0, 0, 0, 0, 0, 0, 0, 0, 0, 0, 0, 0, 0, 0, 0, 0, 0, 0, 0, 0, 0, 0, 0, 0],\n",
              "[0, 0, 0, 0, 0, 0, 4, 0, 0, 0, 0, 0, 0, 0, 0, 0, 0, 0, 0, 0, 0, 0, 0, 0, 0, 0, 0, 0, 0, 0, 0, 0],\n",
              "[0, 0, 0, 0, 0, 0, 0, 2, 0, 0, 0, 0, 0, 0, 0, 0, 0, 0, 0, 0, 0, 0, 0, 0, 0, 0, 0, 0, 0, 0, 0, 0],\n",
              "[0, 0, 0, 0, 0, 0, 0, 0, 2, 0, 0, 0, 0, 0, 0, 0, 0, 0, 0, 0, 0, 0, 0, 0, 0, 0, 0, 0, 0, 0, 0, 0],\n",
              "[0, 0, 0, 0, 0, 0, 0, 0, 0, 4, 0, 0, 0, 0, 0, 0, 0, 0, 0, 0, 0, 0, 0, 0, 0, 0, 0, 0, 0, 0, 0, 0],\n",
              "[0, 0, 0, 0, 0, 0, 0, 0, 0, 0, 3, 0, 0, 0, 0, 0, 0, 0, 0, 0, 0, 0, 0, 0, 0, 0, 0, 0, 0, 0, 0, 0],\n",
              "[0, 0, 0, 0, 0, 0, 0, 0, 0, 0, 0, 3, 0, 0, 0, 0, 0, 0, 0, 0, 0, 0, 0, 0, 0, 0, 0, 0, 0, 0, 0, 0],\n",
              "[0, 0, 0, 0, 0, 0, 0, 0, 0, 0, 0, 0, 5, 0, 0, 0, 0, 0, 0, 0, 0, 0, 0, 0, 0, 0, 0, 0, 0, 0, 0, 0],\n",
              "[0, 0, 0, 0, 0, 0, 0, 0, 0, 0, 0, 0, 0, 5, 0, 0, 0, 0, 0, 0, 0, 0, 0, 0, 0, 0, 0, 0, 0, 0, 0, 0],\n",
              "[0, 0, 0, 0, 0, 0, 0, 0, 0, 0, 0, 0, 0, 0, 4, 0, 0, 0, 0, 0, 0, 0, 0, 0, 0, 0, 0, 0, 0, 0, 0, 0],\n",
              "[0, 0, 0, 0, 0, 0, 0, 0, 0, 0, 0, 0, 0, 0, 0, 2, 0, 0, 0, 0, 0, 0, 0, 0, 0, 0, 0, 0, 0, 0, 0, 0],\n",
              "[0, 0, 0, 0, 0, 0, 0, 0, 0, 0, 0, 0, 0, 0, 0, 0, 2, 0, 0, 0, 0, 0, 0, 0, 0, 0, 0, 0, 0, 0, 0, 0],\n",
              "[0, 0, 0, 0, 0, 0, 0, 0, 0, 0, 0, 0, 0, 0, 0, 0, 0, 4, 0, 0, 0, 0, 0, 0, 0, 0, 0, 0, 0, 0, 0, 0],\n",
              "[0, 0, 0, 0, 0, 0, 0, 0, 0, 0, 0, 0, 0, 0, 0, 0, 0, 0, 5, 0, 0, 0, 0, 0, 0, 0, 0, 0, 0, 0, 0, 0],\n",
              "[0, 0, 0, 0, 0, 0, 0, 0, 0, 0, 0, 0, 0, 0, 0, 0, 0, 0, 0, 5, 0, 0, 0, 0, 0, 0, 0, 0, 0, 0, 0, 0],\n",
              "[0, 0, 0, 0, 0, 0, 0, 0, 0, 0, 0, 0, 0, 0, 0, 0, 0, 0, 0, 0, 3, 0, 0, 0, 0, 0, 0, 0, 0, 0, 0, 0],\n",
              "[0, 0, 0, 0, 0, 0, 0, 0, 0, 0, 0, 0, 0, 0, 0, 0, 0, 0, 0, 0, 0, 3, 0, 0, 0, 0, 0, 0, 0, 0, 0, 0],\n",
              "[0, 0, 0, 0, 0, 0, 0, 0, 0, 0, 0, 0, 0, 0, 0, 0, 0, 0, 0, 0, 0, 0, 4, 0, 0, 0, 0, 0, 0, 0, 0, 0],\n",
              "[0, 0, 0, 0, 0, 0, 0, 0, 0, 0, 0, 0, 0, 0, 0, 0, 0, 0, 0, 0, 0, 0, 0, 2, 0, 0, 0, 0, 0, 0, 0, 0],\n",
              "[0, 0, 0, 0, 0, 0, 0, 0, 0, 0, 0, 0, 0, 0, 0, 0, 0, 0, 0, 0, 0, 0, 0, 0, 2, 0, 0, 0, 0, 0, 0, 0],\n",
              "[0, 0, 0, 0, 0, 0, 0, 0, 0, 0, 0, 0, 0, 0, 0, 0, 0, 0, 0, 0, 0, 0, 0, 0, 0, 4, 0, 0, 0, 0, 0, 0],\n",
              "[0, 0, 0, 0, 0, 0, 0, 0, 0, 0, 0, 0, 0, 0, 0, 0, 0, 0, 0, 0, 0, 0, 0, 0, 0, 0, 3, 0, 0, 0, 0, 0],\n",
              "[0, 0, 0, 0, 0, 0, 0, 0, 0, 0, 0, 0, 0, 0, 0, 0, 0, 0, 0, 0, 0, 0, 0, 0, 0, 0, 0, 3, 0, 0, 0, 0],\n",
              "[0, 0, 0, 0, 0, 0, 0, 0, 0, 0, 0, 0, 0, 0, 0, 0, 0, 0, 0, 0, 0, 0, 0, 0, 0, 0, 0, 0, 3, 0, 0, 0],\n",
              "[0, 0, 0, 0, 0, 0, 0, 0, 0, 0, 0, 0, 0, 0, 0, 0, 0, 0, 0, 0, 0, 0, 0, 0, 0, 0, 0, 0, 0, 3, 0, 0],\n",
              "[0, 0, 0, 0, 0, 0, 0, 0, 0, 0, 0, 0, 0, 0, 0, 0, 0, 0, 0, 0, 0, 0, 0, 0, 0, 0, 0, 0, 0, 0, 2, 0],\n",
              "[0, 0, 0, 0, 0, 0, 0, 0, 0, 0, 0, 0, 0, 0, 0, 0, 0, 0, 0, 0, 0, 0, 0, 0, 0, 0, 0, 0, 0, 0, 0, 0]])"
            ],
            "text/latex": "$\\displaystyle \\left[\\begin{array}{cccccccccccccccccccccccccccccccc}0 & 0 & 0 & 0 & 0 & 0 & 0 & 0 & 0 & 0 & 0 & 0 & 0 & 0 & 0 & 0 & 0 & 0 & 0 & 0 & 0 & 0 & 0 & 0 & 0 & 0 & 0 & 0 & 0 & 0 & 0 & 0\\\\0 & 2 & 0 & 0 & 0 & 0 & 0 & 0 & 0 & 0 & 0 & 0 & 0 & 0 & 0 & 0 & 0 & 0 & 0 & 0 & 0 & 0 & 0 & 0 & 0 & 0 & 0 & 0 & 0 & 0 & 0 & 0\\\\0 & 0 & 3 & 0 & 0 & 0 & 0 & 0 & 0 & 0 & 0 & 0 & 0 & 0 & 0 & 0 & 0 & 0 & 0 & 0 & 0 & 0 & 0 & 0 & 0 & 0 & 0 & 0 & 0 & 0 & 0 & 0\\\\0 & 0 & 0 & 3 & 0 & 0 & 0 & 0 & 0 & 0 & 0 & 0 & 0 & 0 & 0 & 0 & 0 & 0 & 0 & 0 & 0 & 0 & 0 & 0 & 0 & 0 & 0 & 0 & 0 & 0 & 0 & 0\\\\0 & 0 & 0 & 0 & 3 & 0 & 0 & 0 & 0 & 0 & 0 & 0 & 0 & 0 & 0 & 0 & 0 & 0 & 0 & 0 & 0 & 0 & 0 & 0 & 0 & 0 & 0 & 0 & 0 & 0 & 0 & 0\\\\0 & 0 & 0 & 0 & 0 & 3 & 0 & 0 & 0 & 0 & 0 & 0 & 0 & 0 & 0 & 0 & 0 & 0 & 0 & 0 & 0 & 0 & 0 & 0 & 0 & 0 & 0 & 0 & 0 & 0 & 0 & 0\\\\0 & 0 & 0 & 0 & 0 & 0 & 4 & 0 & 0 & 0 & 0 & 0 & 0 & 0 & 0 & 0 & 0 & 0 & 0 & 0 & 0 & 0 & 0 & 0 & 0 & 0 & 0 & 0 & 0 & 0 & 0 & 0\\\\0 & 0 & 0 & 0 & 0 & 0 & 0 & 2 & 0 & 0 & 0 & 0 & 0 & 0 & 0 & 0 & 0 & 0 & 0 & 0 & 0 & 0 & 0 & 0 & 0 & 0 & 0 & 0 & 0 & 0 & 0 & 0\\\\0 & 0 & 0 & 0 & 0 & 0 & 0 & 0 & 2 & 0 & 0 & 0 & 0 & 0 & 0 & 0 & 0 & 0 & 0 & 0 & 0 & 0 & 0 & 0 & 0 & 0 & 0 & 0 & 0 & 0 & 0 & 0\\\\0 & 0 & 0 & 0 & 0 & 0 & 0 & 0 & 0 & 4 & 0 & 0 & 0 & 0 & 0 & 0 & 0 & 0 & 0 & 0 & 0 & 0 & 0 & 0 & 0 & 0 & 0 & 0 & 0 & 0 & 0 & 0\\\\0 & 0 & 0 & 0 & 0 & 0 & 0 & 0 & 0 & 0 & 3 & 0 & 0 & 0 & 0 & 0 & 0 & 0 & 0 & 0 & 0 & 0 & 0 & 0 & 0 & 0 & 0 & 0 & 0 & 0 & 0 & 0\\\\0 & 0 & 0 & 0 & 0 & 0 & 0 & 0 & 0 & 0 & 0 & 3 & 0 & 0 & 0 & 0 & 0 & 0 & 0 & 0 & 0 & 0 & 0 & 0 & 0 & 0 & 0 & 0 & 0 & 0 & 0 & 0\\\\0 & 0 & 0 & 0 & 0 & 0 & 0 & 0 & 0 & 0 & 0 & 0 & 5 & 0 & 0 & 0 & 0 & 0 & 0 & 0 & 0 & 0 & 0 & 0 & 0 & 0 & 0 & 0 & 0 & 0 & 0 & 0\\\\0 & 0 & 0 & 0 & 0 & 0 & 0 & 0 & 0 & 0 & 0 & 0 & 0 & 5 & 0 & 0 & 0 & 0 & 0 & 0 & 0 & 0 & 0 & 0 & 0 & 0 & 0 & 0 & 0 & 0 & 0 & 0\\\\0 & 0 & 0 & 0 & 0 & 0 & 0 & 0 & 0 & 0 & 0 & 0 & 0 & 0 & 4 & 0 & 0 & 0 & 0 & 0 & 0 & 0 & 0 & 0 & 0 & 0 & 0 & 0 & 0 & 0 & 0 & 0\\\\0 & 0 & 0 & 0 & 0 & 0 & 0 & 0 & 0 & 0 & 0 & 0 & 0 & 0 & 0 & 2 & 0 & 0 & 0 & 0 & 0 & 0 & 0 & 0 & 0 & 0 & 0 & 0 & 0 & 0 & 0 & 0\\\\0 & 0 & 0 & 0 & 0 & 0 & 0 & 0 & 0 & 0 & 0 & 0 & 0 & 0 & 0 & 0 & 2 & 0 & 0 & 0 & 0 & 0 & 0 & 0 & 0 & 0 & 0 & 0 & 0 & 0 & 0 & 0\\\\0 & 0 & 0 & 0 & 0 & 0 & 0 & 0 & 0 & 0 & 0 & 0 & 0 & 0 & 0 & 0 & 0 & 4 & 0 & 0 & 0 & 0 & 0 & 0 & 0 & 0 & 0 & 0 & 0 & 0 & 0 & 0\\\\0 & 0 & 0 & 0 & 0 & 0 & 0 & 0 & 0 & 0 & 0 & 0 & 0 & 0 & 0 & 0 & 0 & 0 & 5 & 0 & 0 & 0 & 0 & 0 & 0 & 0 & 0 & 0 & 0 & 0 & 0 & 0\\\\0 & 0 & 0 & 0 & 0 & 0 & 0 & 0 & 0 & 0 & 0 & 0 & 0 & 0 & 0 & 0 & 0 & 0 & 0 & 5 & 0 & 0 & 0 & 0 & 0 & 0 & 0 & 0 & 0 & 0 & 0 & 0\\\\0 & 0 & 0 & 0 & 0 & 0 & 0 & 0 & 0 & 0 & 0 & 0 & 0 & 0 & 0 & 0 & 0 & 0 & 0 & 0 & 3 & 0 & 0 & 0 & 0 & 0 & 0 & 0 & 0 & 0 & 0 & 0\\\\0 & 0 & 0 & 0 & 0 & 0 & 0 & 0 & 0 & 0 & 0 & 0 & 0 & 0 & 0 & 0 & 0 & 0 & 0 & 0 & 0 & 3 & 0 & 0 & 0 & 0 & 0 & 0 & 0 & 0 & 0 & 0\\\\0 & 0 & 0 & 0 & 0 & 0 & 0 & 0 & 0 & 0 & 0 & 0 & 0 & 0 & 0 & 0 & 0 & 0 & 0 & 0 & 0 & 0 & 4 & 0 & 0 & 0 & 0 & 0 & 0 & 0 & 0 & 0\\\\0 & 0 & 0 & 0 & 0 & 0 & 0 & 0 & 0 & 0 & 0 & 0 & 0 & 0 & 0 & 0 & 0 & 0 & 0 & 0 & 0 & 0 & 0 & 2 & 0 & 0 & 0 & 0 & 0 & 0 & 0 & 0\\\\0 & 0 & 0 & 0 & 0 & 0 & 0 & 0 & 0 & 0 & 0 & 0 & 0 & 0 & 0 & 0 & 0 & 0 & 0 & 0 & 0 & 0 & 0 & 0 & 2 & 0 & 0 & 0 & 0 & 0 & 0 & 0\\\\0 & 0 & 0 & 0 & 0 & 0 & 0 & 0 & 0 & 0 & 0 & 0 & 0 & 0 & 0 & 0 & 0 & 0 & 0 & 0 & 0 & 0 & 0 & 0 & 0 & 4 & 0 & 0 & 0 & 0 & 0 & 0\\\\0 & 0 & 0 & 0 & 0 & 0 & 0 & 0 & 0 & 0 & 0 & 0 & 0 & 0 & 0 & 0 & 0 & 0 & 0 & 0 & 0 & 0 & 0 & 0 & 0 & 0 & 3 & 0 & 0 & 0 & 0 & 0\\\\0 & 0 & 0 & 0 & 0 & 0 & 0 & 0 & 0 & 0 & 0 & 0 & 0 & 0 & 0 & 0 & 0 & 0 & 0 & 0 & 0 & 0 & 0 & 0 & 0 & 0 & 0 & 3 & 0 & 0 & 0 & 0\\\\0 & 0 & 0 & 0 & 0 & 0 & 0 & 0 & 0 & 0 & 0 & 0 & 0 & 0 & 0 & 0 & 0 & 0 & 0 & 0 & 0 & 0 & 0 & 0 & 0 & 0 & 0 & 0 & 3 & 0 & 0 & 0\\\\0 & 0 & 0 & 0 & 0 & 0 & 0 & 0 & 0 & 0 & 0 & 0 & 0 & 0 & 0 & 0 & 0 & 0 & 0 & 0 & 0 & 0 & 0 & 0 & 0 & 0 & 0 & 0 & 0 & 3 & 0 & 0\\\\0 & 0 & 0 & 0 & 0 & 0 & 0 & 0 & 0 & 0 & 0 & 0 & 0 & 0 & 0 & 0 & 0 & 0 & 0 & 0 & 0 & 0 & 0 & 0 & 0 & 0 & 0 & 0 & 0 & 0 & 2 & 0\\\\0 & 0 & 0 & 0 & 0 & 0 & 0 & 0 & 0 & 0 & 0 & 0 & 0 & 0 & 0 & 0 & 0 & 0 & 0 & 0 & 0 & 0 & 0 & 0 & 0 & 0 & 0 & 0 & 0 & 0 & 0 & 0\\end{array}\\right]$"
          },
          "metadata": {},
          "execution_count": 103
        }
      ]
    },
    {
      "cell_type": "code",
      "source": [
        "H_max_cut.eigenvals()"
      ],
      "metadata": {
        "colab": {
          "base_uri": "https://localhost:8080/"
        },
        "id": "-MyDfXT7m9dZ",
        "outputId": "cd027f96-bd6d-40f3-f6fb-727b7e4a0f06"
      },
      "execution_count": 104,
      "outputs": [
        {
          "output_type": "execute_result",
          "data": {
            "text/plain": [
              "{0: 2, 2: 8, 3: 12, 4: 6, 5: 4}"
            ]
          },
          "metadata": {},
          "execution_count": 104
        }
      ]
    },
    {
      "cell_type": "code",
      "source": [
        "H_max_cut.eigenvects()[4]"
      ],
      "metadata": {
        "id": "2SEdHnTFBBba"
      },
      "execution_count": null,
      "outputs": []
    },
    {
      "cell_type": "code",
      "source": [
        "s_x = Matrix([[0,1],[1,0]])\n",
        "s_x"
      ],
      "metadata": {
        "colab": {
          "base_uri": "https://localhost:8080/",
          "height": 58
        },
        "id": "Sf3I9Tte_690",
        "outputId": "f05116dc-07f6-408e-ecd3-2734f6767403"
      },
      "execution_count": 105,
      "outputs": [
        {
          "output_type": "execute_result",
          "data": {
            "text/plain": [
              "Matrix([\n",
              "[0, 1],\n",
              "[1, 0]])"
            ],
            "text/latex": "$\\displaystyle \\left[\\begin{matrix}0 & 1\\\\1 & 0\\end{matrix}\\right]$"
          },
          "metadata": {},
          "execution_count": 105
        }
      ]
    },
    {
      "cell_type": "code",
      "source": [
        "spin_x = (I-s_x)/2\n",
        "spin_x"
      ],
      "metadata": {
        "colab": {
          "base_uri": "https://localhost:8080/",
          "height": 58
        },
        "id": "Zl0pncM-ADjH",
        "outputId": "2464dd01-a32e-4c7c-9709-ea51558432a2"
      },
      "execution_count": 107,
      "outputs": [
        {
          "output_type": "execute_result",
          "data": {
            "text/plain": [
              "Matrix([\n",
              "[ 1/2, -1/2],\n",
              "[-1/2,  1/2]])"
            ],
            "text/latex": "$\\displaystyle \\left[\\begin{matrix}\\frac{1}{2} & - \\frac{1}{2}\\\\- \\frac{1}{2} & \\frac{1}{2}\\end{matrix}\\right]$"
          },
          "metadata": {},
          "execution_count": 107
        }
      ]
    },
    {
      "cell_type": "code",
      "source": [
        "H_in = TensorProduct(spin_x, I) + TensorProduct(I,spin_x)\n",
        "H_in"
      ],
      "metadata": {
        "colab": {
          "base_uri": "https://localhost:8080/",
          "height": 100
        },
        "id": "a1MLCV21AIZH",
        "outputId": "66ec9769-e1dc-4586-91f7-060bff12affa"
      },
      "execution_count": 109,
      "outputs": [
        {
          "output_type": "execute_result",
          "data": {
            "text/plain": [
              "Matrix([\n",
              "[   1, -1/2, -1/2,    0],\n",
              "[-1/2,    1,    0, -1/2],\n",
              "[-1/2,    0,    1, -1/2],\n",
              "[   0, -1/2, -1/2,    1]])"
            ],
            "text/latex": "$\\displaystyle \\left[\\begin{matrix}1 & - \\frac{1}{2} & - \\frac{1}{2} & 0\\\\- \\frac{1}{2} & 1 & 0 & - \\frac{1}{2}\\\\- \\frac{1}{2} & 0 & 1 & - \\frac{1}{2}\\\\0 & - \\frac{1}{2} & - \\frac{1}{2} & 1\\end{matrix}\\right]$"
          },
          "metadata": {},
          "execution_count": 109
        }
      ]
    },
    {
      "cell_type": "code",
      "source": [
        "H_in.eigenvals()"
      ],
      "metadata": {
        "colab": {
          "base_uri": "https://localhost:8080/"
        },
        "id": "yeVB40WRAoLo",
        "outputId": "3100d15d-492e-43a4-c7fb-1452fa0841ea"
      },
      "execution_count": 110,
      "outputs": [
        {
          "output_type": "execute_result",
          "data": {
            "text/plain": [
              "{2: 1, 1: 2, 0: 1}"
            ]
          },
          "metadata": {},
          "execution_count": 110
        }
      ]
    },
    {
      "cell_type": "code",
      "source": [
        "H_in.eigenvects()"
      ],
      "metadata": {
        "colab": {
          "base_uri": "https://localhost:8080/"
        },
        "id": "JaYAUmiRAxZi",
        "outputId": "365780ec-0a66-4cac-f829-118074956c5f"
      },
      "execution_count": 111,
      "outputs": [
        {
          "output_type": "execute_result",
          "data": {
            "text/plain": [
              "[(0, 1, [Matrix([\n",
              "   [1],\n",
              "   [1],\n",
              "   [1],\n",
              "   [1]])]), (1, 2, [Matrix([\n",
              "   [ 0],\n",
              "   [-1],\n",
              "   [ 1],\n",
              "   [ 0]]), Matrix([\n",
              "   [-1],\n",
              "   [ 0],\n",
              "   [ 0],\n",
              "   [ 1]])]), (2, 1, [Matrix([\n",
              "   [ 1],\n",
              "   [-1],\n",
              "   [-1],\n",
              "   [ 1]])])]"
            ]
          },
          "metadata": {},
          "execution_count": 111
        }
      ]
    },
    {
      "cell_type": "code",
      "source": [
        "H_in = TensorProduct(spin_x, I,I) + TensorProduct(I,spin_x,I) + TensorProduct(I,I,spin_x)\n",
        "H_in"
      ],
      "metadata": {
        "colab": {
          "base_uri": "https://localhost:8080/",
          "height": 181
        },
        "id": "9tHFDpIzA8pS",
        "outputId": "9ab0e88c-7772-4771-f510-9fce8e1b7357"
      },
      "execution_count": 115,
      "outputs": [
        {
          "output_type": "execute_result",
          "data": {
            "text/plain": [
              "Matrix([\n",
              "[ 3/2, -1/2, -1/2,    0, -1/2,    0,    0,    0],\n",
              "[-1/2,  3/2,    0, -1/2,    0, -1/2,    0,    0],\n",
              "[-1/2,    0,  3/2, -1/2,    0,    0, -1/2,    0],\n",
              "[   0, -1/2, -1/2,  3/2,    0,    0,    0, -1/2],\n",
              "[-1/2,    0,    0,    0,  3/2, -1/2, -1/2,    0],\n",
              "[   0, -1/2,    0,    0, -1/2,  3/2,    0, -1/2],\n",
              "[   0,    0, -1/2,    0, -1/2,    0,  3/2, -1/2],\n",
              "[   0,    0,    0, -1/2,    0, -1/2, -1/2,  3/2]])"
            ],
            "text/latex": "$\\displaystyle \\left[\\begin{matrix}\\frac{3}{2} & - \\frac{1}{2} & - \\frac{1}{2} & 0 & - \\frac{1}{2} & 0 & 0 & 0\\\\- \\frac{1}{2} & \\frac{3}{2} & 0 & - \\frac{1}{2} & 0 & - \\frac{1}{2} & 0 & 0\\\\- \\frac{1}{2} & 0 & \\frac{3}{2} & - \\frac{1}{2} & 0 & 0 & - \\frac{1}{2} & 0\\\\0 & - \\frac{1}{2} & - \\frac{1}{2} & \\frac{3}{2} & 0 & 0 & 0 & - \\frac{1}{2}\\\\- \\frac{1}{2} & 0 & 0 & 0 & \\frac{3}{2} & - \\frac{1}{2} & - \\frac{1}{2} & 0\\\\0 & - \\frac{1}{2} & 0 & 0 & - \\frac{1}{2} & \\frac{3}{2} & 0 & - \\frac{1}{2}\\\\0 & 0 & - \\frac{1}{2} & 0 & - \\frac{1}{2} & 0 & \\frac{3}{2} & - \\frac{1}{2}\\\\0 & 0 & 0 & - \\frac{1}{2} & 0 & - \\frac{1}{2} & - \\frac{1}{2} & \\frac{3}{2}\\end{matrix}\\right]$"
          },
          "metadata": {},
          "execution_count": 115
        }
      ]
    },
    {
      "cell_type": "code",
      "source": [
        "H_in.eigenvals()"
      ],
      "metadata": {
        "colab": {
          "base_uri": "https://localhost:8080/"
        },
        "id": "vsUXK5uuCA6u",
        "outputId": "a635d486-5648-454e-fa99-a820ff9968e8"
      },
      "execution_count": 118,
      "outputs": [
        {
          "output_type": "execute_result",
          "data": {
            "text/plain": [
              "{3: 1, 2: 3, 1: 3, 0: 1}"
            ]
          },
          "metadata": {},
          "execution_count": 118
        }
      ]
    },
    {
      "cell_type": "code",
      "source": [
        "H_in.eigenvects()[0]"
      ],
      "metadata": {
        "colab": {
          "base_uri": "https://localhost:8080/"
        },
        "id": "qXmrWfdqBntw",
        "outputId": "a7cb5bf6-7007-49a6-d9b0-803762f59eb1"
      },
      "execution_count": 117,
      "outputs": [
        {
          "output_type": "execute_result",
          "data": {
            "text/plain": [
              "(0, 1, [Matrix([\n",
              "  [1],\n",
              "  [1],\n",
              "  [1],\n",
              "  [1],\n",
              "  [1],\n",
              "  [1],\n",
              "  [1],\n",
              "  [1]])])"
            ]
          },
          "metadata": {},
          "execution_count": 117
        }
      ]
    },
    {
      "cell_type": "code",
      "source": [
        "H_in = TensorProduct(spin_x, I,I,I) + TensorProduct(I,spin_x,I,I) + TensorProduct(I,I,spin_x,I) + TensorProduct(I,I,I,spin_x)\n",
        "H_in"
      ],
      "metadata": {
        "colab": {
          "base_uri": "https://localhost:8080/",
          "height": 344
        },
        "id": "JPY_WoOMBpt2",
        "outputId": "212a012f-d84b-4477-cf4e-5b291386aac5"
      },
      "execution_count": 119,
      "outputs": [
        {
          "output_type": "execute_result",
          "data": {
            "text/plain": [
              "Matrix([\n",
              "[   2, -1/2, -1/2,    0, -1/2,    0,    0,    0, -1/2,    0,    0,    0,    0,    0,    0,    0],\n",
              "[-1/2,    2,    0, -1/2,    0, -1/2,    0,    0,    0, -1/2,    0,    0,    0,    0,    0,    0],\n",
              "[-1/2,    0,    2, -1/2,    0,    0, -1/2,    0,    0,    0, -1/2,    0,    0,    0,    0,    0],\n",
              "[   0, -1/2, -1/2,    2,    0,    0,    0, -1/2,    0,    0,    0, -1/2,    0,    0,    0,    0],\n",
              "[-1/2,    0,    0,    0,    2, -1/2, -1/2,    0,    0,    0,    0,    0, -1/2,    0,    0,    0],\n",
              "[   0, -1/2,    0,    0, -1/2,    2,    0, -1/2,    0,    0,    0,    0,    0, -1/2,    0,    0],\n",
              "[   0,    0, -1/2,    0, -1/2,    0,    2, -1/2,    0,    0,    0,    0,    0,    0, -1/2,    0],\n",
              "[   0,    0,    0, -1/2,    0, -1/2, -1/2,    2,    0,    0,    0,    0,    0,    0,    0, -1/2],\n",
              "[-1/2,    0,    0,    0,    0,    0,    0,    0,    2, -1/2, -1/2,    0, -1/2,    0,    0,    0],\n",
              "[   0, -1/2,    0,    0,    0,    0,    0,    0, -1/2,    2,    0, -1/2,    0, -1/2,    0,    0],\n",
              "[   0,    0, -1/2,    0,    0,    0,    0,    0, -1/2,    0,    2, -1/2,    0,    0, -1/2,    0],\n",
              "[   0,    0,    0, -1/2,    0,    0,    0,    0,    0, -1/2, -1/2,    2,    0,    0,    0, -1/2],\n",
              "[   0,    0,    0,    0, -1/2,    0,    0,    0, -1/2,    0,    0,    0,    2, -1/2, -1/2,    0],\n",
              "[   0,    0,    0,    0,    0, -1/2,    0,    0,    0, -1/2,    0,    0, -1/2,    2,    0, -1/2],\n",
              "[   0,    0,    0,    0,    0,    0, -1/2,    0,    0,    0, -1/2,    0, -1/2,    0,    2, -1/2],\n",
              "[   0,    0,    0,    0,    0,    0,    0, -1/2,    0,    0,    0, -1/2,    0, -1/2, -1/2,    2]])"
            ],
            "text/latex": "$\\displaystyle \\left[\\begin{array}{cccccccccccccccc}2 & - \\frac{1}{2} & - \\frac{1}{2} & 0 & - \\frac{1}{2} & 0 & 0 & 0 & - \\frac{1}{2} & 0 & 0 & 0 & 0 & 0 & 0 & 0\\\\- \\frac{1}{2} & 2 & 0 & - \\frac{1}{2} & 0 & - \\frac{1}{2} & 0 & 0 & 0 & - \\frac{1}{2} & 0 & 0 & 0 & 0 & 0 & 0\\\\- \\frac{1}{2} & 0 & 2 & - \\frac{1}{2} & 0 & 0 & - \\frac{1}{2} & 0 & 0 & 0 & - \\frac{1}{2} & 0 & 0 & 0 & 0 & 0\\\\0 & - \\frac{1}{2} & - \\frac{1}{2} & 2 & 0 & 0 & 0 & - \\frac{1}{2} & 0 & 0 & 0 & - \\frac{1}{2} & 0 & 0 & 0 & 0\\\\- \\frac{1}{2} & 0 & 0 & 0 & 2 & - \\frac{1}{2} & - \\frac{1}{2} & 0 & 0 & 0 & 0 & 0 & - \\frac{1}{2} & 0 & 0 & 0\\\\0 & - \\frac{1}{2} & 0 & 0 & - \\frac{1}{2} & 2 & 0 & - \\frac{1}{2} & 0 & 0 & 0 & 0 & 0 & - \\frac{1}{2} & 0 & 0\\\\0 & 0 & - \\frac{1}{2} & 0 & - \\frac{1}{2} & 0 & 2 & - \\frac{1}{2} & 0 & 0 & 0 & 0 & 0 & 0 & - \\frac{1}{2} & 0\\\\0 & 0 & 0 & - \\frac{1}{2} & 0 & - \\frac{1}{2} & - \\frac{1}{2} & 2 & 0 & 0 & 0 & 0 & 0 & 0 & 0 & - \\frac{1}{2}\\\\- \\frac{1}{2} & 0 & 0 & 0 & 0 & 0 & 0 & 0 & 2 & - \\frac{1}{2} & - \\frac{1}{2} & 0 & - \\frac{1}{2} & 0 & 0 & 0\\\\0 & - \\frac{1}{2} & 0 & 0 & 0 & 0 & 0 & 0 & - \\frac{1}{2} & 2 & 0 & - \\frac{1}{2} & 0 & - \\frac{1}{2} & 0 & 0\\\\0 & 0 & - \\frac{1}{2} & 0 & 0 & 0 & 0 & 0 & - \\frac{1}{2} & 0 & 2 & - \\frac{1}{2} & 0 & 0 & - \\frac{1}{2} & 0\\\\0 & 0 & 0 & - \\frac{1}{2} & 0 & 0 & 0 & 0 & 0 & - \\frac{1}{2} & - \\frac{1}{2} & 2 & 0 & 0 & 0 & - \\frac{1}{2}\\\\0 & 0 & 0 & 0 & - \\frac{1}{2} & 0 & 0 & 0 & - \\frac{1}{2} & 0 & 0 & 0 & 2 & - \\frac{1}{2} & - \\frac{1}{2} & 0\\\\0 & 0 & 0 & 0 & 0 & - \\frac{1}{2} & 0 & 0 & 0 & - \\frac{1}{2} & 0 & 0 & - \\frac{1}{2} & 2 & 0 & - \\frac{1}{2}\\\\0 & 0 & 0 & 0 & 0 & 0 & - \\frac{1}{2} & 0 & 0 & 0 & - \\frac{1}{2} & 0 & - \\frac{1}{2} & 0 & 2 & - \\frac{1}{2}\\\\0 & 0 & 0 & 0 & 0 & 0 & 0 & - \\frac{1}{2} & 0 & 0 & 0 & - \\frac{1}{2} & 0 & - \\frac{1}{2} & - \\frac{1}{2} & 2\\end{array}\\right]$"
          },
          "metadata": {},
          "execution_count": 119
        }
      ]
    },
    {
      "cell_type": "code",
      "source": [
        "H_in.eigenvals()"
      ],
      "metadata": {
        "colab": {
          "base_uri": "https://localhost:8080/"
        },
        "id": "cdZHskusCKrH",
        "outputId": "1372f349-0860-4e4d-9d65-05854dfb68c4"
      },
      "execution_count": 120,
      "outputs": [
        {
          "output_type": "execute_result",
          "data": {
            "text/plain": [
              "{4: 1, 3: 4, 1: 4, 2: 6, 0: 1}"
            ]
          },
          "metadata": {},
          "execution_count": 120
        }
      ]
    },
    {
      "cell_type": "code",
      "source": [
        "H_in.eigenvects()[0]"
      ],
      "metadata": {
        "colab": {
          "base_uri": "https://localhost:8080/"
        },
        "id": "cw636FVzCMZ3",
        "outputId": "b56afa53-105a-4686-861e-7c38cae66c81"
      },
      "execution_count": 121,
      "outputs": [
        {
          "output_type": "execute_result",
          "data": {
            "text/plain": [
              "(0, 1, [Matrix([\n",
              "  [1],\n",
              "  [1],\n",
              "  [1],\n",
              "  [1],\n",
              "  [1],\n",
              "  [1],\n",
              "  [1],\n",
              "  [1],\n",
              "  [1],\n",
              "  [1],\n",
              "  [1],\n",
              "  [1],\n",
              "  [1],\n",
              "  [1],\n",
              "  [1],\n",
              "  [1]])])"
            ]
          },
          "metadata": {},
          "execution_count": 121
        }
      ]
    },
    {
      "cell_type": "code",
      "source": [],
      "metadata": {
        "id": "3LS9TSLCCORP"
      },
      "execution_count": null,
      "outputs": []
    }
  ]
}