{
  "nbformat": 4,
  "nbformat_minor": 0,
  "metadata": {
    "colab": {
      "provenance": [],
      "authorship_tag": "ABX9TyMx5/WgGp6affm5p+lxiS18",
      "include_colab_link": true
    },
    "kernelspec": {
      "name": "python3",
      "display_name": "Python 3"
    },
    "language_info": {
      "name": "python"
    }
  },
  "cells": [
    {
      "cell_type": "markdown",
      "metadata": {
        "id": "view-in-github",
        "colab_type": "text"
      },
      "source": [
        "<a href=\"https://colab.research.google.com/github/s-caro/psychic-broccoli/blob/main/Spring_and_flowers.ipynb\" target=\"_parent\"><img src=\"https://colab.research.google.com/assets/colab-badge.svg\" alt=\"Open In Colab\"/></a>"
      ]
    },
    {
      "cell_type": "code",
      "source": [
        "pip install dwave-system"
      ],
      "metadata": {
        "id": "QswsvvYaq72B"
      },
      "execution_count": null,
      "outputs": []
    },
    {
      "cell_type": "code",
      "execution_count": null,
      "metadata": {
        "id": "RTNlStVuq2uV"
      },
      "outputs": [],
      "source": [
        "import matplotlib\n",
        "import matplotlib.pyplot as plt\n",
        "import networkx as nx\n",
        "import math \n",
        "import dimod\n",
        "from dimod import ConstrainedQuadraticModel, Binary, quicksum, Real, SampleSet, Integer, ExactCQMSolver\n",
        "from dwave.system import LeapHybridCQMSampler"
      ]
    },
    {
      "cell_type": "code",
      "source": [
        "dimod.REAL_INTERACTIONS =True"
      ],
      "metadata": {
        "id": "PQE6I9YqJo3X"
      },
      "execution_count": null,
      "outputs": []
    },
    {
      "cell_type": "code",
      "source": [
        "class Variables:\n",
        "    \"\"\"Class that collects all CQM model variables for the Tutte's barycenter method\n",
        "    Args:\n",
        "        nodes: the nodes of the graph considered\n",
        "        lower_bound: the minumum value for the coordinate of a node\n",
        "        upper_bound: the maximum value for the coordinate of a node\n",
        "    \"\"\"\n",
        "\n",
        "    def __init__(self, nodes: nx.Graph.nodes, lowerBound: float, upperBound: float):\n",
        "        self.x = {i: Integer(f'x_{i}',lower_bound = lowerBound, upper_bound = upperBound) for i in nodes}\n",
        "        self.y = {i: Integer(f'y_{i}',lower_bound = lowerBound, upper_bound = upperBound) for i in nodes}"
      ],
      "metadata": {
        "id": "OgyIzRGHtLLx"
      },
      "execution_count": null,
      "outputs": []
    },
    {
      "cell_type": "code",
      "source": [
        "def _add_variable(cqm: ConstrainedQuadraticModel, lowerBound: float, upperBound: float, g: nx.Graph()):\n",
        "    for i in G.nodes():\n",
        "        cqm.add_variable('INTEGER',f'x_{i}',lower_bound = lowerBound, upper_bound = upperBound)\n",
        "        cqm.add_variable('INTEGER',f'y_{i}',lower_bound = lowerBound, upper_bound = upperBound)"
      ],
      "metadata": {
        "id": "4_0iZWNOD29H"
      },
      "execution_count": null,
      "outputs": []
    },
    {
      "cell_type": "code",
      "source": [
        "def _add_constraint(cqm: ConstrainedQuadraticModel, vars: Variables, g: nx.Graph(), l: float):\n",
        "    \"\"\"constraint on the x and y position of the nodes, the sum of all forces acting on a point must be zero\n",
        "    Args:\n",
        "        cqm: the model\n",
        "        vars: the x and y coordinates of the points\n",
        "        g: the graph that we want to draw\n",
        "    \"\"\"\n",
        "    l_1 = l**(-1)\n",
        "    for u in g.nodes:\n",
        "        nodes = list(set(g.nodes)-set([u]))\n",
        "        F_rep_x = quicksum((-(l**2))*(vars.x[v]-vars.x[u])*((vars.x[v]-vars.x[u])**2+(vars.y[v]-vars.y[u])**(2)) for v in nodes)\n",
        "        F_att_x = quicksum((math.sqrt((vars.x[u]-vars.x[v])**2+(vars.y[u]-vars.y[v])**2))*(vars.x[v]-vars.x[u])*l_1 for v in g.neighbors(u))\n",
        "        cqm.add_constraint((F_rep_x + F_att_x)==0, label=f'x_constraint_node_{u}')\n",
        "        #cqm.add_constraint((quicksum((-l**2)*(vars.y[v]-vars.y[u])*((vars.x[v]-vars.x[u])**2+(vars.y[v]-vars.y[u])**(2)) for v in nodes) + quicksum((math.sqrt((vars.x[u]-vars.x[v])**2+(vars.y[u]-vars.y[v])**2))*(vars.y[v]-vars.y[u])*(l**(-1)) for v in g.neighbors(u)))==0, label=f'y_constraint_node_{u}')\n",
        "\n",
        "        #cqm.add_constraint((g.degree(v)*vars.x[v]-quicksum(vars.x[u] for u in g.neighbors(v)))==0,label=f'x_constraint_node_{u}')\n",
        "        #cqm.add_constraint((g.degree(v)*vars.y[v]-quicksum(vars.y[u] for u in g.neighbors(v)))==0,label=f'y_constraint_node_{u}')"
      ],
      "metadata": {
        "id": "cBaiNX8lEZ-y"
      },
      "execution_count": null,
      "outputs": []
    },
    {
      "cell_type": "code",
      "source": [
        "def build_cqm(vars: Variables, g: nx.Graph(), upperBound: int, C: int) -> ConstrainedQuadraticModel:\n",
        "    \"\"\"objective function of the problem, minimize the distance of each point from the barycenter position\n",
        "    Args:\n",
        "        vars: the x and y coordinates of the points\n",
        "        g: the graph that we want to draw\n",
        "        fixed_points: a list of tuple, each contains the node, the x-coordinate, the y-coordinate where the node needs to be fixed\n",
        "    \n",
        "    Returns:\n",
        "        A ''dimod.CQM'' object that defines the Titto's barycenter method\n",
        "    \"\"\"\n",
        "    cqm = ConstrainedQuadraticModel()\n",
        "    _add_variable(cqm, 0, upperBound, g)\n",
        "    l = C*math.sqrt(upperBound**2/len(list(g.nodes)))\n",
        "    _add_constraint(cqm, vars, g, l)\n",
        "    \n",
        "    \n",
        "    #print(cqm.objective)\n",
        "    print(cqm.constraints)\n",
        "    \n",
        "    return cqm"
      ],
      "metadata": {
        "id": "GbHgvvnWHnvV"
      },
      "execution_count": null,
      "outputs": []
    },
    {
      "cell_type": "code",
      "source": [
        "num_nodes = 4\n",
        "G = nx.from_edgelist([(0,1),(1,2),(2,0),(0,3),(1,3),(2,3)])\n",
        "#G = nx.from_edgelist([(0,1),(0,4),(0,3),(1,5),(1,2),(2,3),(2,6),(3,7),(4,5),(4,7),(5,6),(6,7)])\n",
        "#G = nx.from_edgelist([(0,1),(0,2),(0,3),(0,4),(0,6),(1,3),(1,4),(1,2),(1,5),(2,3),(2,5),(2,6),(3,4),(3,5),(3,6)])\n",
        "#G =nx.from_edgelist([(0,1),(0,7),(0,4),(1,9),(1,2),(2,3),(2,19),(3,4),(3,17),(4,5),(5,6),(5,16),(6,7),(6,13),(7,8),(8,9),(8,12),(9,10),(10,11),(10,19),(11,12),(11,15),(12,13),(13,14),(14,15),(14,16),(15,18),(16,17),(17,18),(18,19)])\n",
        "#G = nx.from_edgelist([(0,1),(0,2),(0,3),(0,4),(0,5),(0,6),(1,2),(1,3),(2,3),(2,4),(2,5),(2,6),(3,4),(4,5),(5,6)])\n",
        "#G=nx.from_edgelist([(0,1),(0,10),(0,9),(1,2),(1,11),(2,3),(2,11),(3,4),(3,12),(4,5),(4,12),(5,6),(5,13),(6,7),(6,13),(7,8),(7,14),(8,9),(8,14),(9,10),(10,15),(11,17),(12,18),(13,19),(14,16),(15,16),(15,17),(16,19),(17,18),(18,19)])\n",
        "upperBound = 5\n",
        "lowerBound = 0\n",
        "C = 1\n",
        "vars = Variables(G.nodes(), lowerBound, upperBound)\n",
        "cqm = build_cqm(vars, G, upperBound, C)"
      ],
      "metadata": {
        "id": "61pl1dgCHozv"
      },
      "execution_count": null,
      "outputs": []
    },
    {
      "cell_type": "code",
      "source": [],
      "metadata": {
        "id": "agLTdWitIXKv"
      },
      "execution_count": null,
      "outputs": []
    }
  ]
}